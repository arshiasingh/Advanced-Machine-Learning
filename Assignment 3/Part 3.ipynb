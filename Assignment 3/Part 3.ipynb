{
 "cells": [
  {
   "cell_type": "markdown",
   "metadata": {},
   "source": [
    "# Question 5"
   ]
  },
  {
   "cell_type": "markdown",
   "metadata": {},
   "source": [
    "# Part 1"
   ]
  },
  {
   "cell_type": "code",
   "execution_count": 1,
   "metadata": {},
   "outputs": [
    {
     "name": "stderr",
     "output_type": "stream",
     "text": [
      "C:\\Users\\singha\\AppData\\Local\\Continuum\\anaconda3\\lib\\site-packages\\ipykernel_launcher.py:54: FutureWarning: Method .as_matrix will be removed in a future version. Use .values instead.\n"
     ]
    }
   ],
   "source": [
    "# -*- coding: utf-8 -*-\n",
    "\"\"\"\n",
    "Created on Sun April 5th\n",
    "\n",
    "@author: Joshuah Touyz\n",
    "@class: Anly-601\n",
    "@title: HW3 Part 3\n",
    "@lecture: L11 - Intro to deep learning\n",
    "\"\"\"\n",
    "# ---- Programming backprop from scratch -----\n",
    "##########################\n",
    "#   Importing libraries  #\n",
    "##########################\n",
    "import numpy as np\n",
    "import pandas as pd\n",
    "from matplotlib import pyplot as py\n",
    "import time\n",
    "\n",
    "#%%%%%%%%%%%%%%%%%%%%%%%%%%%%%%\n",
    "#   Generate some training    #\n",
    "#      data from a GMM        #\n",
    "###############################\n",
    "def gen_gmm_data(n = 999, plot=False):\n",
    "    # Fixing seed for repeatability\n",
    "    np.random.seed(123)\n",
    "    \n",
    "    # Parameters of a normal distribuion\n",
    "    mean_1 = [0, 2] ; mean_2 = [2, -2] ; mean_3 = [-2, -2]\n",
    "    mean = [mean_1, mean_2, mean_3] ; cov = [[1, 0], [0, 1]]  \n",
    "    \n",
    "    # Setting up the class probabilities\n",
    "    n_samples = n\n",
    "    pr_class_1 = pr_class_2 = pr_class_3 = 1/3.0\n",
    "    n_class = (n_samples * np.array([pr_class_1,pr_class_2, pr_class_3])).astype(int)\n",
    "  \n",
    "    # Generate sample data\n",
    "    for i in range(3):\n",
    "        x1,x2 = np.random.multivariate_normal(mean[i], cov, n_class[i]).T\n",
    "        if (i==0):\n",
    "            xs = np.array([x1,x2])\n",
    "            cl = np.array([n_class[i]*[i]])\n",
    "        else: \n",
    "            xs_new = np.array([x1,x2])\n",
    "            cl_new = np.array([n_class[i]*[i]])\n",
    "            xs = np.concatenate((xs, xs_new), axis = 1)\n",
    "            cl = np.concatenate((cl, cl_new), axis = 1)\n",
    "    \n",
    "    # Plot?\n",
    "    if plot:\n",
    "        py.scatter(xs[:1,:],xs[1:,:], c = cl)\n",
    "\n",
    "    # One hot encoding classes\n",
    "    y = pd.Series(cl[0].tolist())\n",
    "    y = pd.get_dummies(y).as_matrix() \n",
    "\n",
    "    # Normalizing data (prevents overflow errors)     \n",
    "    mu = xs.mean(axis = 1)\n",
    "    std = xs.std(axis = 1)\n",
    "    xs = (xs.T - mu) / std\n",
    "    \n",
    "    return xs, y, cl\n",
    "             \n",
    "xs,y,cl = gen_gmm_data(plot = True)"
   ]
  },
  {
   "cell_type": "code",
   "execution_count": 2,
   "metadata": {},
   "outputs": [
    {
     "name": "stderr",
     "output_type": "stream",
     "text": [
      "C:\\Users\\singha\\AppData\\Local\\Continuum\\anaconda3\\lib\\site-packages\\ipykernel_launcher.py:54: FutureWarning: Method .as_matrix will be removed in a future version. Use .values instead.\n"
     ]
    }
   ],
   "source": [
    "#%%%%%%%%%%%%%%%%%%%%%%%\n",
    "#    Hidden Units     #\n",
    "#######################\n",
    "ReLU = np.vectorize(lambda z: np.fmax(0,z))\n",
    "sigmoid = lambda z: 1 / (1 + np.exp(-z))\n",
    "softmax = lambda z: np.exp(z)/(np.sum(np.exp(z),axis=1))[:,np.newaxis]\n",
    "\n",
    "# %%%%%%%%%%%%%%%%%%%%%\n",
    "#  Utility Functions  #\n",
    "# #####################\n",
    "def predict(Y_hat):\n",
    "    return np.argmax(Y_hat, axis=1)\n",
    "\n",
    "\n",
    "def error_rate(Y_hat, cl):\n",
    "    prediction = predict(Y_hat)\n",
    "    return np.mean(prediction != cl)\n",
    "\n",
    "\n",
    "def cost(Y_hat, Y):\n",
    "    tot = Y * np.log(Y_hat)\n",
    "    return -tot.sum()\n",
    "\n",
    "#%%%%%%%%%%%%%%%%%%%%%%%%%%%%%%%%%%%\n",
    "#   1- Hidden Layer ReLU Network   #\n",
    "####################################\n",
    "def forward(X,parameters, drop_out = 1):\n",
    "    # Unpacking parameters    \n",
    "    W,b1,V,b2 = parameters\n",
    "    \n",
    "    # Forward pass\n",
    "    a1 = X.dot(W) + b1\n",
    "    H = ReLU(a1) * drop_out\n",
    "    # H = sigmoid(a1) * drop_out\n",
    "    a2 = H.dot(V) + b2\n",
    "    Y_hat = softmax(a2)\n",
    "    return H,Y_hat\n",
    "\n",
    "#%%%%%%%%%%%%%%%\n",
    "#   Gradient   #\n",
    "################\n",
    "\n",
    "def grad(X,H,Y,Y_hat,parameters):  \n",
    "    # Unpacking parameters    \n",
    "    W,b1,V,b2 = parameters\n",
    "    # Gradients - ReLU\n",
    "    dV = H.T.dot(Y_hat - Y)\n",
    "    db2 = (Y_hat - Y).sum(axis=0)\n",
    "    dW = X.T.dot(((Y_hat - Y).dot(V.T) * (H > 0))) \n",
    "    db1 = ((Y_hat - Y).dot(V.T) * (H > 0)).sum(axis=0)\n",
    "    \n",
    "    # Gradients - sigmoid\n",
    "    # dW = X.T.dot((Y_hat-Y).dot(V) * (H * (1 - H)))\n",
    "    # db1 = (Y_hat-Y).dot(V) * (H * (1 - H)).sum(axis=0)\n",
    "    \n",
    "    \n",
    "    #return {'dV':dV,'db2':db2,'dW':dW,'db1':db1}\n",
    "    return dW,db1,dV,db2\n",
    "\n",
    "#%%%%%%%%%%%%%%%%%%%%%%%%%%%%%%%%%%%%%%%%%%%%%%%%%%\n",
    "#   Parameter Update: Momentum + Regularization   #\n",
    "###################################################\n",
    "def parameter_update(parameters,  grads, \n",
    "                     momentum_params = [0,0,0,0], \n",
    "                     lr = 1, reg = 0, alpha = 0):\n",
    "    # Unpacking parameters            \n",
    "    W,b1,V,b2 = parameters\n",
    "    dW,db1,dV,db2 = grads\n",
    "    vW,vb1,vV,vb2 = momentum_params\n",
    "    \n",
    "    # Momentum update\n",
    "    vW  = alpha * vW -  lr * (dW + reg*W)\n",
    "    vb1 = alpha * vb1 - lr * (db1 + reg*b1)\n",
    "    vV  = alpha * vV -  lr * (dV + reg*V)\n",
    "    vb2 = alpha * vb2 - lr * (db2 + reg*b2)\n",
    "    momentum_params = [vW,vb1,vV,vb2] \n",
    "    \n",
    "    # Parameter updates\n",
    "    W  = W  + vW\n",
    "    b1 = b1 + vb1\n",
    "    V  = V  + vV\n",
    "    b2 = b2 + vb2\n",
    "    parameters =[W,b1,V,b2]\n",
    "\n",
    "             \n",
    "    return parameters, momentum_params\n",
    "\n",
    "#%%%%%%%%%%%%%%%%%%%%%%%%%%%%%%%%\n",
    "#  Generate data for network    #\n",
    "#################################\n",
    "X, Y, cl = gen_gmm_data()\n",
    "\n",
    "# %%%%%%%%%%%%%%%%%%%%%%%%%%%%%\n",
    "#      Building the model     #\n",
    "###############################\n",
    "def run_model(X, Y, cl,\n",
    "              nodes_in_hidden_layer = 3,\n",
    "              num_dim = 2,     # <- number of dimensions here it is 2: x1,x2\n",
    "              num_classes = 3, # <- number of classes in the problem\n",
    "              iterations = 100,\n",
    "              regularization_include = False,\n",
    "              momentum_include = False,\n",
    "              drop_out_include = False):    \n",
    "\n",
    "    \n",
    "    ###################################\n",
    "    #   Initial values for network    #\n",
    "    ###################################\n",
    "    # Intialize weights\n",
    "    np.random.seed(123)\n",
    "    W = np.random.randn(num_dim * nodes_in_hidden_layer).reshape(num_dim,nodes_in_hidden_layer)\n",
    "    b1 = 0\n",
    "    V = np.random.randn(num_classes * nodes_in_hidden_layer).reshape(nodes_in_hidden_layer,num_classes)\n",
    "    b2 = 0\n",
    "    parameters = [W,b1,V,b2]\n",
    "    \n",
    "    \n",
    "    # Hyperparameters \n",
    "    lr = 0.0001 # learning rate\n",
    "    reg = 0.01 * regularization_include\n",
    "    \n",
    "    # Momentum parameters\n",
    "    alpha = 0.9 * momentum_include\n",
    "    vV = 0\n",
    "    vb2 = 0\n",
    "    vW = 0\n",
    "    vb1 = 0\n",
    "    momentum_params = [vW,vb1,vV,vb2]    \n",
    "    \n",
    "    # Place holder for losses\n",
    "    losses = []\n",
    "    errors = []    \n",
    "   \n",
    "    ###################\n",
    "    #   Run the model #\n",
    "    ###################\n",
    "    for i in range(0,iterations):\n",
    "        # -- Drop Out Mask --\n",
    "        # When !=1 then ddrop rate is 12.5%  (~0.5/4 = 12.5%)\n",
    "        # Short cut to include drop_out \n",
    "        drop_out =  (1 - drop_out_include) + drop_out_include * np.round(1-np.random.rand(nodes_in_hidden_layer)/4) \n",
    "        \n",
    "        # -- Forward propoagation --\n",
    "        H,Y_hat = forward(X,parameters,drop_out)\n",
    "        \n",
    "        # -- Backward propagation --\n",
    "        # Gradient calculation\n",
    "        grads_in = grad(X,H,Y,Y_hat,parameters)\n",
    "        # Parameter update\n",
    "        new_params, new_mom_param = parameter_update(parameters, grads_in, \n",
    "                             momentum_params, alpha = alpha, \n",
    "                             lr = lr, reg = reg)\n",
    "        \n",
    "        # -- Updating values --\n",
    "        H,Y_hat = forward(X,new_params, drop_out)\n",
    "        parameters = new_params\n",
    "        momentum_params = new_mom_param\n",
    "        # Prediction and Error rate            \n",
    "        errs_i = error_rate(Y_hat, cl) ; errors.append(errs_i)\n",
    "        loss_i = cost(Y_hat, Y); losses.append(loss_i)\n",
    "        if ((i % 25) == 0):    \n",
    "            print(\n",
    "            '''\n",
    "            ---- Iteration {i} ----\n",
    "            Error rate : {er}\n",
    "            Loss: {loss}\n",
    "            '''.format(i= i, er = errs_i, loss = loss_i))\n",
    "    print(py.plot(range(0,iterations), losses))\n",
    "    return {\"errors\":errs_i, \"loss_i\":loss_i, \"parameters\":parameters}"
   ]
  },
  {
   "cell_type": "markdown",
   "metadata": {},
   "source": [
    "## Part A"
   ]
  },
  {
   "cell_type": "code",
   "execution_count": 4,
   "metadata": {},
   "outputs": [
    {
     "name": "stdout",
     "output_type": "stream",
     "text": [
      "\n",
      "            ---- Iteration 0 ----\n",
      "            Error rate : 0.34234234234234234\n",
      "            Loss: 613.5034085448333\n",
      "            \n",
      "\n",
      "            ---- Iteration 25 ----\n",
      "            Error rate : 0.04504504504504504\n",
      "            Loss: 230.39605917572297\n",
      "            \n",
      "\n",
      "            ---- Iteration 50 ----\n",
      "            Error rate : 0.03303303303303303\n",
      "            Loss: 150.17197232981295\n",
      "            \n",
      "\n",
      "            ---- Iteration 75 ----\n",
      "            Error rate : 0.03003003003003003\n",
      "            Loss: 120.61145170075919\n",
      "            \n",
      "[<matplotlib.lines.Line2D object at 0x00000187D6572908>]\n"
     ]
    },
    {
     "data": {
      "image/png": "[encoded data removed]",
      "text/plain": [
       "<Figure size 432x288 with 1 Axes>"
      ]
     },
     "metadata": {
      "needs_background": "light"
     },
     "output_type": "display_data"
    }
   ],
   "source": [
    "# %%%%%%%%%%%%%%%%%%%%%%%%%%%%%\n",
    "#   Running Different Models  #\n",
    "###############################\n",
    "vanilla_sgd = run_model(X,Y,cl, iterations = 100,\n",
    "              regularization_include = False,\n",
    "              momentum_include = False,\n",
    "              drop_out_include = False)"
   ]
  },
  {
   "cell_type": "code",
   "execution_count": 5,
   "metadata": {},
   "outputs": [
    {
     "name": "stdout",
     "output_type": "stream",
     "text": [
      "\n",
      "            ---- Iteration 0 ----\n",
      "            Error rate : 0.34234234234234234\n",
      "            Loss: 613.5029983606919\n",
      "            \n",
      "\n",
      "            ---- Iteration 25 ----\n",
      "            Error rate : 0.04504504504504504\n",
      "            Loss: 230.40354394647113\n",
      "            \n",
      "\n",
      "            ---- Iteration 50 ----\n",
      "            Error rate : 0.03303303303303303\n",
      "            Loss: 150.18172488031507\n",
      "            \n",
      "\n",
      "            ---- Iteration 75 ----\n",
      "            Error rate : 0.03003003003003003\n",
      "            Loss: 120.62280456538743\n",
      "            \n",
      "[<matplotlib.lines.Line2D object at 0x00000187D65D8470>]\n"
     ]
    },
    {
     "data": {
      "image/png": "[encoded data removed]",
      "text/plain": [
       "<Figure size 432x288 with 1 Axes>"
      ]
     },
     "metadata": {
      "needs_background": "light"
     },
     "output_type": "display_data"
    }
   ],
   "source": [
    "sgd_w_reg = run_model(X,Y,cl, iterations = 100,\n",
    "              regularization_include = True,\n",
    "              momentum_include = False,\n",
    "              drop_out_include = False)"
   ]
  },
  {
   "cell_type": "code",
   "execution_count": 6,
   "metadata": {},
   "outputs": [
    {
     "name": "stdout",
     "output_type": "stream",
     "text": [
      "\n",
      "            ---- Iteration 0 ----\n",
      "            Error rate : 0.34234234234234234\n",
      "            Loss: 613.5029983606919\n",
      "            \n",
      "\n",
      "            ---- Iteration 25 ----\n",
      "            Error rate : 0.024024024024024024\n",
      "            Loss: 80.98295471923471\n",
      "            \n",
      "\n",
      "            ---- Iteration 50 ----\n",
      "            Error rate : 0.026026026026026026\n",
      "            Loss: 72.76404956100706\n",
      "            \n",
      "\n",
      "            ---- Iteration 75 ----\n",
      "            Error rate : 0.026026026026026026\n",
      "            Loss: 70.85085902810401\n",
      "            \n",
      "[<matplotlib.lines.Line2D object at 0x00000187D662D7F0>]\n"
     ]
    },
    {
     "data": {
      "image/png": "[encoded data removed]",
      "text/plain": [
       "<Figure size 432x288 with 1 Axes>"
      ]
     },
     "metadata": {
      "needs_background": "light"
     },
     "output_type": "display_data"
    }
   ],
   "source": [
    "sgd_w_reg_momentum = run_model(X,Y,cl, iterations = 100,\n",
    "                              regularization_include = True,\n",
    "                              momentum_include = True,\n",
    "                              drop_out_include = False)"
   ]
  },
  {
   "cell_type": "code",
   "execution_count": 7,
   "metadata": {},
   "outputs": [
    {
     "name": "stdout",
     "output_type": "stream",
     "text": [
      "\n",
      "            ---- Iteration 0 ----\n",
      "            Error rate : 0.34234234234234234\n",
      "            Loss: 613.5029983606919\n",
      "            \n",
      "\n",
      "            ---- Iteration 25 ----\n",
      "            Error rate : 0.024024024024024024\n",
      "            Loss: 80.98295471923471\n",
      "            \n",
      "\n",
      "            ---- Iteration 50 ----\n",
      "            Error rate : 0.026026026026026026\n",
      "            Loss: 72.76404956100706\n",
      "            \n",
      "\n",
      "            ---- Iteration 75 ----\n",
      "            Error rate : 0.026026026026026026\n",
      "            Loss: 70.85085902810401\n",
      "            \n",
      "[<matplotlib.lines.Line2D object at 0x00000187D668AB00>]\n"
     ]
    },
    {
     "data": {
      "image/png": "[encoded data removed]",
      "text/plain": [
       "<Figure size 432x288 with 1 Axes>"
      ]
     },
     "metadata": {
      "needs_background": "light"
     },
     "output_type": "display_data"
    }
   ],
   "source": [
    "sgd_w_reg_momentum_drop_out = run_model(X,Y,cl, iterations = 100,\n",
    "                                      regularization_include = True,\n",
    "                                      momentum_include = True,\n",
    "                                      drop_out_include = True) "
   ]
  },
  {
   "cell_type": "markdown",
   "metadata": {},
   "source": [
    "It looks like the regularization schemes of sgd_w_momentum and sgd_w_reg_momentum_drop_out have the best performance (same loss at each iteration). These perform the same because there are only 3 nodes in the hidden layer so there isn't much risk of overfitting with excess nodes that need to be dropped. This is more likely to be the case once we have 5 nodes in the hidden layer."
   ]
  },
  {
   "cell_type": "markdown",
   "metadata": {},
   "source": [
    "## Part B"
   ]
  },
  {
   "cell_type": "code",
   "execution_count": 8,
   "metadata": {},
   "outputs": [
    {
     "name": "stdout",
     "output_type": "stream",
     "text": [
      "\n",
      "            ---- Iteration 0 ----\n",
      "            Error rate : 0.5665665665665666\n",
      "            Loss: 2614.817307396562\n",
      "            \n",
      "\n",
      "            ---- Iteration 25 ----\n",
      "            Error rate : 0.19519519519519518\n",
      "            Loss: 611.3706509095945\n",
      "            \n",
      "\n",
      "            ---- Iteration 50 ----\n",
      "            Error rate : 0.06806806806806807\n",
      "            Loss: 383.2276735915492\n",
      "            \n",
      "\n",
      "            ---- Iteration 75 ----\n",
      "            Error rate : 0.042042042042042045\n",
      "            Loss: 251.50549508774918\n",
      "            \n",
      "[<matplotlib.lines.Line2D object at 0x00000187D66A16A0>]\n"
     ]
    },
    {
     "data": {
      "image/png": "[encoded data removed]",
      "text/plain": [
       "<Figure size 432x288 with 1 Axes>"
      ]
     },
     "metadata": {
      "needs_background": "light"
     },
     "output_type": "display_data"
    }
   ],
   "source": [
    "vanilla_sgd = run_model(X,Y,cl, iterations = 100,\n",
    "              nodes_in_hidden_layer = 5,\n",
    "              regularization_include = False,\n",
    "              momentum_include = False,\n",
    "              drop_out_include = False)"
   ]
  },
  {
   "cell_type": "code",
   "execution_count": 9,
   "metadata": {},
   "outputs": [
    {
     "name": "stdout",
     "output_type": "stream",
     "text": [
      "\n",
      "            ---- Iteration 0 ----\n",
      "            Error rate : 0.5665665665665666\n",
      "            Loss: 2614.812898743622\n",
      "            \n",
      "\n",
      "            ---- Iteration 25 ----\n",
      "            Error rate : 0.19519519519519518\n",
      "            Loss: 611.3780321566293\n",
      "            \n",
      "\n",
      "            ---- Iteration 50 ----\n",
      "            Error rate : 0.06806806806806807\n",
      "            Loss: 383.24311052012064\n",
      "            \n",
      "\n",
      "            ---- Iteration 75 ----\n",
      "            Error rate : 0.042042042042042045\n",
      "            Loss: 251.5185754232598\n",
      "            \n",
      "[<matplotlib.lines.Line2D object at 0x00000187D65D8BE0>]\n"
     ]
    },
    {
     "data": {
      "image/png": "[encoded data removed]",
      "text/plain": [
       "<Figure size 432x288 with 1 Axes>"
      ]
     },
     "metadata": {
      "needs_background": "light"
     },
     "output_type": "display_data"
    }
   ],
   "source": [
    "sgd_w_reg = run_model(X,Y,cl, iterations = 100,\n",
    "              nodes_in_hidden_layer = 5,\n",
    "              regularization_include = True,\n",
    "              momentum_include = False,\n",
    "              drop_out_include = False)"
   ]
  },
  {
   "cell_type": "code",
   "execution_count": 10,
   "metadata": {},
   "outputs": [
    {
     "name": "stdout",
     "output_type": "stream",
     "text": [
      "\n",
      "            ---- Iteration 0 ----\n",
      "            Error rate : 0.5665665665665666\n",
      "            Loss: 2614.812898743622\n",
      "            \n",
      "\n",
      "            ---- Iteration 25 ----\n",
      "            Error rate : 0.042042042042042045\n",
      "            Loss: 177.33983329727536\n",
      "            \n",
      "\n",
      "            ---- Iteration 50 ----\n",
      "            Error rate : 0.028028028028028028\n",
      "            Loss: 92.94331996077938\n",
      "            \n",
      "\n",
      "            ---- Iteration 75 ----\n",
      "            Error rate : 0.023023023023023025\n",
      "            Loss: 83.57093363386093\n",
      "            \n",
      "[<matplotlib.lines.Line2D object at 0x00000187D64CE3C8>]\n"
     ]
    },
    {
     "data": {
      "image/png": "[encoded data removed]",
      "text/plain": [
       "<Figure size 432x288 with 1 Axes>"
      ]
     },
     "metadata": {
      "needs_background": "light"
     },
     "output_type": "display_data"
    }
   ],
   "source": [
    "sgd_w_reg_momentum = run_model(X,Y,cl, iterations = 100,\n",
    "                              nodes_in_hidden_layer = 5,\n",
    "                              regularization_include = True,\n",
    "                              momentum_include = True,\n",
    "                              drop_out_include = False)"
   ]
  },
  {
   "cell_type": "code",
   "execution_count": 11,
   "metadata": {},
   "outputs": [
    {
     "name": "stdout",
     "output_type": "stream",
     "text": [
      "\n",
      "            ---- Iteration 0 ----\n",
      "            Error rate : 0.5665665665665666\n",
      "            Loss: 2614.812898743622\n",
      "            \n",
      "\n",
      "            ---- Iteration 25 ----\n",
      "            Error rate : 0.042042042042042045\n",
      "            Loss: 177.33983329727536\n",
      "            \n",
      "\n",
      "            ---- Iteration 50 ----\n",
      "            Error rate : 0.028028028028028028\n",
      "            Loss: 92.94331996077938\n",
      "            \n",
      "\n",
      "            ---- Iteration 75 ----\n",
      "            Error rate : 0.023023023023023025\n",
      "            Loss: 83.57093363386093\n",
      "            \n",
      "[<matplotlib.lines.Line2D object at 0x00000187D62757F0>]\n"
     ]
    },
    {
     "data": {
      "image/png": "[encoded data removed]",
      "text/plain": [
       "<Figure size 432x288 with 1 Axes>"
      ]
     },
     "metadata": {
      "needs_background": "light"
     },
     "output_type": "display_data"
    }
   ],
   "source": [
    "sgd_w_reg_momentum_drop_out = run_model(X,Y,cl, iterations = 100,\n",
    "                                      nodes_in_hidden_layer = 5,\n",
    "                                      regularization_include = True,\n",
    "                                      momentum_include = True,\n",
    "                                      drop_out_include = True) "
   ]
  },
  {
   "cell_type": "markdown",
   "metadata": {},
   "source": [
    "Again, the  sgd_w_momentum and sgd_w_reg_momentum_drop_out have the best performance (same loss at each iteration). These perform the same because there are only 3 nodes in the hidden layer so there isn't much risk of overfitting with excess nodes that need to be dropped. This is more likely to be the case once we have 5 nodes in the hidden layer."
   ]
  },
  {
   "cell_type": "markdown",
   "metadata": {},
   "source": [
    "## Part C"
   ]
  },
  {
   "cell_type": "code",
   "execution_count": 16,
   "metadata": {},
   "outputs": [
    {
     "name": "stderr",
     "output_type": "stream",
     "text": [
      "C:\\Users\\singha\\AppData\\Local\\Continuum\\anaconda3\\lib\\site-packages\\ipykernel_launcher.py:4: DeprecationWarning: time.clock has been deprecated in Python 3.3 and will be removed from Python 3.8: use time.perf_counter or time.process_time instead\n",
      "  after removing the cwd from sys.path.\n"
     ]
    },
    {
     "name": "stdout",
     "output_type": "stream",
     "text": [
      "\n",
      "            ---- Iteration 0 ----\n",
      "            Error rate : 0.34234234234234234\n",
      "            Loss: 613.5034085448333\n",
      "            \n",
      "\n",
      "            ---- Iteration 25 ----\n",
      "            Error rate : 0.04504504504504504\n",
      "            Loss: 230.39605917572297\n",
      "            \n",
      "\n",
      "            ---- Iteration 50 ----\n",
      "            Error rate : 0.03303303303303303\n",
      "            Loss: 150.17197232981295\n",
      "            \n",
      "\n",
      "            ---- Iteration 75 ----\n",
      "            Error rate : 0.03003003003003003\n",
      "            Loss: 120.61145170075919\n",
      "            \n",
      "[<matplotlib.lines.Line2D object at 0x00000187D6342FD0>]\n",
      "1.2350135080014297 seconds\n"
     ]
    },
    {
     "name": "stderr",
     "output_type": "stream",
     "text": [
      "C:\\Users\\singha\\AppData\\Local\\Continuum\\anaconda3\\lib\\site-packages\\ipykernel_launcher.py:10: DeprecationWarning: time.clock has been deprecated in Python 3.3 and will be removed from Python 3.8: use time.perf_counter or time.process_time instead\n",
      "  # Remove the CWD from sys.path while we load stuff.\n"
     ]
    },
    {
     "data": {
      "image/png": "[encoded data removed]",
      "text/plain": [
       "<Figure size 432x288 with 1 Axes>"
      ]
     },
     "metadata": {
      "needs_background": "light"
     },
     "output_type": "display_data"
    }
   ],
   "source": [
    "# %%%%%%%%%%%%%%%%%%%%%%%%%%%%%\n",
    "#       Execution time.      #\n",
    "###############################\n",
    "start_time = time.clock()\n",
    "vanilla_sgd = run_model(X,Y,cl, iterations = 100,\n",
    "              nodes_in_hidden_layer = 3,\n",
    "              regularization_include = False,\n",
    "              momentum_include = False,\n",
    "              drop_out_include = False)\n",
    "print(time.clock() - start_time, \"seconds\")"
   ]
  },
  {
   "cell_type": "code",
   "execution_count": 17,
   "metadata": {},
   "outputs": [
    {
     "name": "stderr",
     "output_type": "stream",
     "text": [
      "C:\\Users\\singha\\AppData\\Local\\Continuum\\anaconda3\\lib\\site-packages\\ipykernel_launcher.py:1: DeprecationWarning: time.clock has been deprecated in Python 3.3 and will be removed from Python 3.8: use time.perf_counter or time.process_time instead\n",
      "  \"\"\"Entry point for launching an IPython kernel.\n"
     ]
    },
    {
     "name": "stdout",
     "output_type": "stream",
     "text": [
      "\n",
      "            ---- Iteration 0 ----\n",
      "            Error rate : 0.34234234234234234\n",
      "            Loss: 613.5029983606919\n",
      "            \n",
      "\n",
      "            ---- Iteration 25 ----\n",
      "            Error rate : 0.04504504504504504\n",
      "            Loss: 230.40354394647113\n",
      "            \n",
      "\n",
      "            ---- Iteration 50 ----\n",
      "            Error rate : 0.03303303303303303\n",
      "            Loss: 150.18172488031507\n",
      "            \n",
      "\n",
      "            ---- Iteration 75 ----\n",
      "            Error rate : 0.03003003003003003\n",
      "            Loss: 120.62280456538743\n",
      "            \n",
      "[<matplotlib.lines.Line2D object at 0x00000187D63A1390>]\n",
      "1.2468404929986718 seconds\n"
     ]
    },
    {
     "name": "stderr",
     "output_type": "stream",
     "text": [
      "C:\\Users\\singha\\AppData\\Local\\Continuum\\anaconda3\\lib\\site-packages\\ipykernel_launcher.py:7: DeprecationWarning: time.clock has been deprecated in Python 3.3 and will be removed from Python 3.8: use time.perf_counter or time.process_time instead\n",
      "  import sys\n"
     ]
    },
    {
     "data": {
      "image/png": "[encoded data removed]",
      "text/plain": [
       "<Figure size 432x288 with 1 Axes>"
      ]
     },
     "metadata": {
      "needs_background": "light"
     },
     "output_type": "display_data"
    }
   ],
   "source": [
    "start_time = time.clock()\n",
    "sgd_w_reg = run_model(X,Y,cl, iterations = 100,\n",
    "              nodes_in_hidden_layer = 3,\n",
    "              regularization_include = True,\n",
    "              momentum_include = False,\n",
    "              drop_out_include = False)\n",
    "print(time.clock() - start_time, \"seconds\")"
   ]
  },
  {
   "cell_type": "code",
   "execution_count": 18,
   "metadata": {},
   "outputs": [
    {
     "name": "stderr",
     "output_type": "stream",
     "text": [
      "C:\\Users\\singha\\AppData\\Local\\Continuum\\anaconda3\\lib\\site-packages\\ipykernel_launcher.py:1: DeprecationWarning: time.clock has been deprecated in Python 3.3 and will be removed from Python 3.8: use time.perf_counter or time.process_time instead\n",
      "  \"\"\"Entry point for launching an IPython kernel.\n"
     ]
    },
    {
     "name": "stdout",
     "output_type": "stream",
     "text": [
      "\n",
      "            ---- Iteration 0 ----\n",
      "            Error rate : 0.34234234234234234\n",
      "            Loss: 613.5029983606919\n",
      "            \n",
      "\n",
      "            ---- Iteration 25 ----\n",
      "            Error rate : 0.024024024024024024\n",
      "            Loss: 80.98295471923471\n",
      "            \n",
      "\n",
      "            ---- Iteration 50 ----\n",
      "            Error rate : 0.026026026026026026\n",
      "            Loss: 72.76404956100706\n",
      "            \n",
      "\n",
      "            ---- Iteration 75 ----\n",
      "            Error rate : 0.026026026026026026\n",
      "            Loss: 70.85085902810401\n",
      "            \n",
      "[<matplotlib.lines.Line2D object at 0x00000187D63FA710>]\n",
      "1.3105860630003008 seconds\n"
     ]
    },
    {
     "name": "stderr",
     "output_type": "stream",
     "text": [
      "C:\\Users\\singha\\AppData\\Local\\Continuum\\anaconda3\\lib\\site-packages\\ipykernel_launcher.py:7: DeprecationWarning: time.clock has been deprecated in Python 3.3 and will be removed from Python 3.8: use time.perf_counter or time.process_time instead\n",
      "  import sys\n"
     ]
    },
    {
     "data": {
      "image/png": "[encoded data removed]",
      "text/plain": [
       "<Figure size 432x288 with 1 Axes>"
      ]
     },
     "metadata": {
      "needs_background": "light"
     },
     "output_type": "display_data"
    }
   ],
   "source": [
    "start_time = time.clock()\n",
    "sgd_w_reg_momentum = run_model(X,Y,cl, iterations = 100,\n",
    "                              nodes_in_hidden_layer = 3,\n",
    "                              regularization_include = True,\n",
    "                              momentum_include = True,\n",
    "                              drop_out_include = False)\n",
    "print(time.clock() - start_time, \"seconds\")"
   ]
  },
  {
   "cell_type": "code",
   "execution_count": 19,
   "metadata": {},
   "outputs": [
    {
     "name": "stderr",
     "output_type": "stream",
     "text": [
      "C:\\Users\\singha\\AppData\\Local\\Continuum\\anaconda3\\lib\\site-packages\\ipykernel_launcher.py:1: DeprecationWarning: time.clock has been deprecated in Python 3.3 and will be removed from Python 3.8: use time.perf_counter or time.process_time instead\n",
      "  \"\"\"Entry point for launching an IPython kernel.\n"
     ]
    },
    {
     "name": "stdout",
     "output_type": "stream",
     "text": [
      "\n",
      "            ---- Iteration 0 ----\n",
      "            Error rate : 0.34234234234234234\n",
      "            Loss: 613.5029983606919\n",
      "            \n",
      "\n",
      "            ---- Iteration 25 ----\n",
      "            Error rate : 0.024024024024024024\n",
      "            Loss: 80.98295471923471\n",
      "            \n",
      "\n",
      "            ---- Iteration 50 ----\n",
      "            Error rate : 0.026026026026026026\n",
      "            Loss: 72.76404956100706\n",
      "            \n",
      "\n",
      "            ---- Iteration 75 ----\n",
      "            Error rate : 0.026026026026026026\n",
      "            Loss: 70.85085902810401\n",
      "            \n",
      "[<matplotlib.lines.Line2D object at 0x00000187D63FAF60>]\n",
      "1.2909759909998684 seconds\n"
     ]
    },
    {
     "name": "stderr",
     "output_type": "stream",
     "text": [
      "C:\\Users\\singha\\AppData\\Local\\Continuum\\anaconda3\\lib\\site-packages\\ipykernel_launcher.py:7: DeprecationWarning: time.clock has been deprecated in Python 3.3 and will be removed from Python 3.8: use time.perf_counter or time.process_time instead\n",
      "  import sys\n"
     ]
    },
    {
     "data": {
      "image/png": "[encoded data removed]",
      "text/plain": [
       "<Figure size 432x288 with 1 Axes>"
      ]
     },
     "metadata": {
      "needs_background": "light"
     },
     "output_type": "display_data"
    }
   ],
   "source": [
    "start_time = time.clock()\n",
    "sgd_w_reg_momentum_drop_out = run_model(X,Y,cl, iterations = 100,\n",
    "                                      nodes_in_hidden_layer = 3,\n",
    "                                      regularization_include = True,\n",
    "                                      momentum_include = True,\n",
    "                                      drop_out_include = True) \n",
    "print(time.clock() - start_time, \"seconds\")"
   ]
  },
  {
   "cell_type": "markdown",
   "metadata": {},
   "source": [
    "| Regularization Scheme       | Time           |\n",
    "|-----------------------------|----------------|\n",
    "| vanilla_sgd                 | 1.2350 seconds |\n",
    "| sgd_w_reg                   | 1.2468 seconds |\n",
    "| sgd_w_momentum              | 1.3106 seconds |\n",
    "| sgd_w_reg_momentum_drop_out | 1.2910 seconds |"
   ]
  },
  {
   "cell_type": "markdown",
   "metadata": {},
   "source": [
    "# Part 2"
   ]
  },
  {
   "cell_type": "markdown",
   "metadata": {},
   "source": [
    "## Part A"
   ]
  },
  {
   "cell_type": "code",
   "execution_count": null,
   "metadata": {},
   "outputs": [],
   "source": [
    "## %%%%%%%%%%%%%%%%%%%%%%%\n",
    "#    Hidden Units     #\n",
    "#######################\n",
    "ReLU = np.vectorize(lambda z: np.fmax(0,z))\n",
    "sigmoid = lambda z: 1 / (1 + np.exp(-z))\n",
    "softmax = lambda z: np.exp(z)/(np.sum(np.exp(z),axis=1))[:,np.newaxis]\n",
    "\n",
    "# %%%%%%%%%%%%%%%%%%%%%\n",
    "#  Utility Functions  #\n",
    "# #####################\n",
    "def predict(Y_hat):\n",
    "    return np.argmax(Y_hat, axis=1)\n",
    "\n",
    "\n",
    "def error_rate(Y_hat, cl):\n",
    "    prediction = predict(Y_hat)\n",
    "    return np.mean(prediction != cl)\n",
    "\n",
    "\n",
    "def cost(Y_hat, Y):\n",
    "    tot = Y * np.log(Y_hat)\n",
    "    return -tot.sum()\n",
    "\n",
    "#%%%%%%%%%%%%%%%%%%%%%%%%%%%%%%%%%%%\n",
    "#   1- Hidden Layer ReLU Network   #\n",
    "####################################\n",
    "def forward(X,parameters, drop_out = 1):\n",
    "    # Unpacking parameters    \n",
    "    W,b1,V,b2 = parameters\n",
    "    \n",
    "    # Forward pass\n",
    "    a1 = X.dot(W) + b1\n",
    "    #H = ReLU(a1) * drop_out\n",
    "    H = sigmoid(a1) * drop_out\n",
    "    a2 = H.dot(V) + b2\n",
    "    Y_hat = softmax(a2)\n",
    "    return H,Y_hat\n",
    "\n",
    "#%%%%%%%%%%%%%%%\n",
    "#   Gradient   #\n",
    "################\n",
    "\n",
    "def grad(X,H,Y,Y_hat,parameters):  \n",
    "    # Unpacking parameters    \n",
    "    W,b1,V,b2 = parameters\n",
    "    # Gradients - ReLU\n",
    "    dV = H.T.dot(Y_hat - Y)\n",
    "    db2 = (Y_hat - Y).sum(axis=0)\n",
    "    #dW = X.T.dot(((Y_hat - Y).dot(V.T) * (H > 0))) \n",
    "    #db1 = ((Y_hat - Y).dot(V.T) * (H > 0)).sum(axis=0)\n",
    "    \n",
    "    # Gradients - sigmoid\n",
    "    dW = X.T.dot((Y_hat-Y).dot(V.T) * (H * (1 - H)))\n",
    "    db1 = (Y_hat-Y).dot(V.T) * (H * (1 - H)).sum(axis=0)\n",
    "    \n",
    "    \n",
    "    #return {'dV':dV,'db2':db2,'dW':dW,'db1':db1}\n",
    "    return dW,db1,dV,db2\n",
    "\n",
    "#%%%%%%%%%%%%%%%%%%%%%%%%%%%%%%%%%%%%%%%%%%%%%%%%%%\n",
    "#   Parameter Update: Momentum + Regularization   #\n",
    "###################################################\n",
    "def parameter_update(parameters,  grads, \n",
    "                     momentum_params = [0,0,0,0], \n",
    "                     lr = 1, reg = 0, alpha = 0):\n",
    "    # Unpacking parameters            \n",
    "    W,b1,V,b2 = parameters\n",
    "    dW,db1,dV,db2 = grads\n",
    "    vW,vb1,vV,vb2 = momentum_params\n",
    "    \n",
    "    # Momentum update\n",
    "    vW  = alpha * vW -  lr * (dW + reg*W)\n",
    "    vb1 = alpha * vb1 - lr * (db1 + reg*b1)\n",
    "    vV  = alpha * vV -  lr * (dV + reg*V)\n",
    "    vb2 = alpha * vb2 - lr * (db2 + reg*b2)\n",
    "    momentum_params = [vW,vb1,vV,vb2] \n",
    "    \n",
    "    # Parameter updates\n",
    "    W  = W  + vW\n",
    "    b1 = b1 + vb1\n",
    "    V  = V  + vV\n",
    "    b2 = b2 + vb2\n",
    "    parameters =[W,b1,V,b2]\n",
    "\n",
    "             \n",
    "    return parameters, momentum_params\n",
    "\n",
    "#%%%%%%%%%%%%%%%%%%%%%%%%%%%%%%%%\n",
    "#  Generate data for network    #\n",
    "#################################\n",
    "X, Y, cl = gen_gmm_data()\n",
    "\n",
    "# %%%%%%%%%%%%%%%%%%%%%%%%%%%%%\n",
    "#      Building the model     #\n",
    "###############################\n",
    "def run_model(X, Y, cl,\n",
    "              nodes_in_hidden_layer = 3,\n",
    "              num_dim = 2,     # <- number of dimensions here it is 2: x1,x2\n",
    "              num_classes = 3, # <- number of classes in the problem\n",
    "              iterations = 100,\n",
    "              regularization_include = False,\n",
    "              momentum_include = False,\n",
    "              drop_out_include = False):    \n",
    "\n",
    "    \n",
    "    ###################################\n",
    "    #   Initial values for network    #\n",
    "    ###################################\n",
    "    # Intialize weights\n",
    "    np.random.seed(123)\n",
    "    W = np.random.randn(num_dim * nodes_in_hidden_layer).reshape(num_dim,nodes_in_hidden_layer)\n",
    "    b1 = 0\n",
    "    V = np.random.randn(num_classes * nodes_in_hidden_layer).reshape(nodes_in_hidden_layer,num_classes)\n",
    "    b2 = 0\n",
    "    parameters = [W,b1,V,b2]\n",
    "    \n",
    "    \n",
    "    # Hyperparameters \n",
    "    lr = 0.0001 # learning rate\n",
    "    reg = 0.01 * regularization_include\n",
    "    \n",
    "    # Momentum parameters\n",
    "    alpha = 0.9 * momentum_include\n",
    "    vV = 0\n",
    "    vb2 = 0\n",
    "    vW = 0\n",
    "    vb1 = 0\n",
    "    momentum_params = [vW,vb1,vV,vb2]    \n",
    "    \n",
    "    # Place holder for losses\n",
    "    losses = []\n",
    "    errors = []    \n",
    "   \n",
    "    ###################\n",
    "    #   Run the model #\n",
    "    ###################\n",
    "    for i in range(0,iterations):\n",
    "        # -- Drop Out Mask --\n",
    "        # When !=1 then ddrop rate is 12.5%  (~0.5/4 = 12.5%)\n",
    "        # Short cut to include drop_out \n",
    "        drop_out =  (1 - drop_out_include) + drop_out_include * np.round(1-np.random.rand(nodes_in_hidden_layer)/4) \n",
    "        \n",
    "        # -- Forward propoagation --\n",
    "        H,Y_hat = forward(X,parameters,drop_out)\n",
    "        \n",
    "        # -- Backward propagation --\n",
    "        # Gradient calculation\n",
    "        grads_in = grad(X,H,Y,Y_hat,parameters)\n",
    "        # Parameter update\n",
    "        new_params, new_mom_param = parameter_update(parameters, grads_in, \n",
    "                             momentum_params, alpha = alpha, \n",
    "                             lr = lr, reg = reg)\n",
    "        \n",
    "        # -- Updating values --\n",
    "        H,Y_hat = forward(X,new_params, drop_out)\n",
    "        parameters = new_params\n",
    "        momentum_params = new_mom_param\n",
    "        # Prediction and Error rate            \n",
    "        errs_i = error_rate(Y_hat, cl) ; errors.append(errs_i)\n",
    "        loss_i = cost(Y_hat, Y); losses.append(loss_i)\n",
    "        if ((i % 25) == 0):    \n",
    "            print(\n",
    "            '''\n",
    "            ---- Iteration {i} ----\n",
    "            Error rate : {er}\n",
    "            Loss: {loss}\n",
    "            '''.format(i= i, er = errs_i, loss = loss_i))\n",
    "    print(py.plot(range(0,iterations), losses))\n",
    "    return {\"errors\":errs_i, \"loss_i\":loss_i, \"parameters\":parameters}"
   ]
  },
  {
   "cell_type": "code",
   "execution_count": 30,
   "metadata": {},
   "outputs": [
    {
     "name": "stdout",
     "output_type": "stream",
     "text": [
      "\n",
      "            ---- Iteration 0 ----\n",
      "            Error rate : 0.36436436436436437\n",
      "            Loss: 815.3601004579307\n",
      "            \n",
      "\n",
      "            ---- Iteration 25 ----\n",
      "            Error rate : 0.17017017017017017\n",
      "            Loss: 564.24839046222\n",
      "            \n",
      "\n",
      "            ---- Iteration 50 ----\n",
      "            Error rate : 0.02902902902902903\n",
      "            Loss: 471.05302961731525\n",
      "            \n",
      "\n",
      "            ---- Iteration 75 ----\n",
      "            Error rate : 0.009009009009009009\n",
      "            Loss: 394.6392869884486\n",
      "            \n",
      "[<matplotlib.lines.Line2D object at 0x00000187D634CEF0>]\n"
     ]
    },
    {
     "data": {
      "image/png": "[encoded data removed]",
      "text/plain": [
       "<Figure size 432x288 with 1 Axes>"
      ]
     },
     "metadata": {
      "needs_background": "light"
     },
     "output_type": "display_data"
    }
   ],
   "source": [
    "# %%%%%%%%%%%%%%%%%%%%%%%%%%%%%\n",
    "#   Running Different Models  #\n",
    "###############################\n",
    "vanilla_sgd = run_model(X,Y,cl, iterations = 100,\n",
    "              regularization_include = False,\n",
    "              momentum_include = False,\n",
    "              drop_out_include = False)"
   ]
  },
  {
   "cell_type": "code",
   "execution_count": 31,
   "metadata": {},
   "outputs": [
    {
     "name": "stdout",
     "output_type": "stream",
     "text": [
      "\n",
      "            ---- Iteration 0 ----\n",
      "            Error rate : 0.36436436436436437\n",
      "            Loss: 815.3601696175726\n",
      "            \n",
      "\n",
      "            ---- Iteration 25 ----\n",
      "            Error rate : 0.17017017017017017\n",
      "            Loss: 564.2584226286873\n",
      "            \n",
      "\n",
      "            ---- Iteration 50 ----\n",
      "            Error rate : 0.02902902902902903\n",
      "            Loss: 471.07374131205034\n",
      "            \n",
      "\n",
      "            ---- Iteration 75 ----\n",
      "            Error rate : 0.009009009009009009\n",
      "            Loss: 394.66892379160777\n",
      "            \n",
      "[<matplotlib.lines.Line2D object at 0x00000187D6668DD8>]\n"
     ]
    },
    {
     "data": {
      "image/png": "[encoded data removed]",
      "text/plain": [
       "<Figure size 432x288 with 1 Axes>"
      ]
     },
     "metadata": {
      "needs_background": "light"
     },
     "output_type": "display_data"
    }
   ],
   "source": [
    "sgd_w_reg = run_model(X,Y,cl, iterations = 100,\n",
    "              regularization_include = True,\n",
    "              momentum_include = False,\n",
    "              drop_out_include = False)"
   ]
  },
  {
   "cell_type": "code",
   "execution_count": 32,
   "metadata": {},
   "outputs": [
    {
     "name": "stdout",
     "output_type": "stream",
     "text": [
      "\n",
      "            ---- Iteration 0 ----\n",
      "            Error rate : 0.36436436436436437\n",
      "            Loss: 815.3601696175726\n",
      "            \n",
      "\n",
      "            ---- Iteration 25 ----\n",
      "            Error rate : 0.002002002002002002\n",
      "            Loss: 182.98683345381278\n",
      "            \n",
      "\n",
      "            ---- Iteration 50 ----\n",
      "            Error rate : 0.0\n",
      "            Loss: 43.899542875758385\n",
      "            \n",
      "\n",
      "            ---- Iteration 75 ----\n",
      "            Error rate : 0.0\n",
      "            Loss: 25.146346730882783\n",
      "            \n",
      "[<matplotlib.lines.Line2D object at 0x00000187D65F9C88>]\n"
     ]
    },
    {
     "data": {
      "image/png": "[encoded data removed]",
      "text/plain": [
       "<Figure size 432x288 with 1 Axes>"
      ]
     },
     "metadata": {
      "needs_background": "light"
     },
     "output_type": "display_data"
    }
   ],
   "source": [
    "sgd_w_reg_momentum = run_model(X,Y,cl, iterations = 100,\n",
    "                              regularization_include = True,\n",
    "                              momentum_include = True,\n",
    "                              drop_out_include = False)"
   ]
  },
  {
   "cell_type": "code",
   "execution_count": 33,
   "metadata": {},
   "outputs": [
    {
     "name": "stdout",
     "output_type": "stream",
     "text": [
      "\n",
      "            ---- Iteration 0 ----\n",
      "            Error rate : 0.36436436436436437\n",
      "            Loss: 815.3601696175726\n",
      "            \n",
      "\n",
      "            ---- Iteration 25 ----\n",
      "            Error rate : 0.002002002002002002\n",
      "            Loss: 182.98683345381278\n",
      "            \n",
      "\n",
      "            ---- Iteration 50 ----\n",
      "            Error rate : 0.0\n",
      "            Loss: 43.899542875758385\n",
      "            \n",
      "\n",
      "            ---- Iteration 75 ----\n",
      "            Error rate : 0.0\n",
      "            Loss: 25.146346730882783\n",
      "            \n",
      "[<matplotlib.lines.Line2D object at 0x00000187D6578DD8>]\n"
     ]
    },
    {
     "data": {
      "image/png": "[encoded data removed]",
      "text/plain": [
       "<Figure size 432x288 with 1 Axes>"
      ]
     },
     "metadata": {
      "needs_background": "light"
     },
     "output_type": "display_data"
    }
   ],
   "source": [
    "sgd_w_reg_momentum_drop_out = run_model(X,Y,cl, iterations = 100,\n",
    "                                      regularization_include = True,\n",
    "                                      momentum_include = True,\n",
    "                                      drop_out_include = True)"
   ]
  },
  {
   "cell_type": "markdown",
   "metadata": {},
   "source": [
    "## Part B"
   ]
  },
  {
   "cell_type": "code",
   "execution_count": 34,
   "metadata": {},
   "outputs": [
    {
     "name": "stdout",
     "output_type": "stream",
     "text": [
      "\n",
      "            ---- Iteration 0 ----\n",
      "            Error rate : 0.6566566566566566\n",
      "            Loss: 1450.586441627903\n",
      "            \n",
      "\n",
      "            ---- Iteration 25 ----\n",
      "            Error rate : 0.3113113113113113\n",
      "            Loss: 744.7528054802333\n",
      "            \n",
      "\n",
      "            ---- Iteration 50 ----\n",
      "            Error rate : 0.004004004004004004\n",
      "            Loss: 478.7947491808475\n",
      "            \n",
      "\n",
      "            ---- Iteration 75 ----\n",
      "            Error rate : 0.0\n",
      "            Loss: 340.58028230286243\n",
      "            \n",
      "[<matplotlib.lines.Line2D object at 0x00000187D66CBF98>]\n"
     ]
    },
    {
     "data": {
      "image/png": "[encoded data removed]",
      "text/plain": [
       "<Figure size 432x288 with 1 Axes>"
      ]
     },
     "metadata": {
      "needs_background": "light"
     },
     "output_type": "display_data"
    }
   ],
   "source": [
    "vanilla_sgd = run_model(X,Y,cl, iterations = 100,\n",
    "              nodes_in_hidden_layer = 5,\n",
    "              regularization_include = False,\n",
    "              momentum_include = False,\n",
    "              drop_out_include = False)"
   ]
  },
  {
   "cell_type": "code",
   "execution_count": 35,
   "metadata": {},
   "outputs": [
    {
     "name": "stdout",
     "output_type": "stream",
     "text": [
      "\n",
      "            ---- Iteration 0 ----\n",
      "            Error rate : 0.6566566566566566\n",
      "            Loss: 1450.5855664869066\n",
      "            \n",
      "\n",
      "            ---- Iteration 25 ----\n",
      "            Error rate : 0.3113113113113113\n",
      "            Loss: 744.7595116809231\n",
      "            \n",
      "\n",
      "            ---- Iteration 50 ----\n",
      "            Error rate : 0.004004004004004004\n",
      "            Loss: 478.8169756302765\n",
      "            \n",
      "\n",
      "            ---- Iteration 75 ----\n",
      "            Error rate : 0.0\n",
      "            Loss: 340.6107055244833\n",
      "            \n",
      "[<matplotlib.lines.Line2D object at 0x00000187D776A438>]\n"
     ]
    },
    {
     "data": {
      "image/png": "[encoded data removed]",
      "text/plain": [
       "<Figure size 432x288 with 1 Axes>"
      ]
     },
     "metadata": {
      "needs_background": "light"
     },
     "output_type": "display_data"
    }
   ],
   "source": [
    "sgd_w_reg = run_model(X,Y,cl, iterations = 100,\n",
    "              nodes_in_hidden_layer = 5,\n",
    "              regularization_include = True,\n",
    "              momentum_include = False,\n",
    "              drop_out_include = False)"
   ]
  },
  {
   "cell_type": "code",
   "execution_count": 36,
   "metadata": {},
   "outputs": [
    {
     "name": "stdout",
     "output_type": "stream",
     "text": [
      "\n",
      "            ---- Iteration 0 ----\n",
      "            Error rate : 0.6566566566566566\n",
      "            Loss: 1450.5855664869066\n",
      "            \n",
      "\n",
      "            ---- Iteration 25 ----\n",
      "            Error rate : 0.0\n",
      "            Loss: 118.1251184766682\n",
      "            \n",
      "\n",
      "            ---- Iteration 50 ----\n",
      "            Error rate : 0.0\n",
      "            Loss: 26.00402816914069\n",
      "            \n",
      "\n",
      "            ---- Iteration 75 ----\n",
      "            Error rate : 0.0\n",
      "            Loss: 15.878006619973021\n",
      "            \n",
      "[<matplotlib.lines.Line2D object at 0x00000187D776A6D8>]\n"
     ]
    },
    {
     "data": {
      "image/png": "[encoded data removed]",
      "text/plain": [
       "<Figure size 432x288 with 1 Axes>"
      ]
     },
     "metadata": {
      "needs_background": "light"
     },
     "output_type": "display_data"
    }
   ],
   "source": [
    "sgd_w_reg_momentum = run_model(X,Y,cl, iterations = 100,\n",
    "                              nodes_in_hidden_layer = 5,\n",
    "                              regularization_include = True,\n",
    "                              momentum_include = True,\n",
    "                              drop_out_include = False)"
   ]
  },
  {
   "cell_type": "code",
   "execution_count": 37,
   "metadata": {},
   "outputs": [
    {
     "name": "stdout",
     "output_type": "stream",
     "text": [
      "\n",
      "            ---- Iteration 0 ----\n",
      "            Error rate : 0.6566566566566566\n",
      "            Loss: 1450.5855664869066\n",
      "            \n",
      "\n",
      "            ---- Iteration 25 ----\n",
      "            Error rate : 0.0\n",
      "            Loss: 118.1251184766682\n",
      "            \n",
      "\n",
      "            ---- Iteration 50 ----\n",
      "            Error rate : 0.0\n",
      "            Loss: 26.00402816914069\n",
      "            \n",
      "\n",
      "            ---- Iteration 75 ----\n",
      "            Error rate : 0.0\n",
      "            Loss: 15.878006619973021\n",
      "            \n",
      "[<matplotlib.lines.Line2D object at 0x00000187D67144E0>]\n"
     ]
    },
    {
     "data": {
      "image/png": "[encoded data removed]",
      "text/plain": [
       "<Figure size 432x288 with 1 Axes>"
      ]
     },
     "metadata": {
      "needs_background": "light"
     },
     "output_type": "display_data"
    }
   ],
   "source": [
    "sgd_w_reg_momentum_drop_out = run_model(X,Y,cl, iterations = 100,\n",
    "                                      nodes_in_hidden_layer = 5,\n",
    "                                      regularization_include = True,\n",
    "                                      momentum_include = True,\n",
    "                                      drop_out_include = True) "
   ]
  },
  {
   "cell_type": "markdown",
   "metadata": {},
   "source": [
    "## Part C"
   ]
  },
  {
   "cell_type": "code",
   "execution_count": 38,
   "metadata": {},
   "outputs": [
    {
     "name": "stderr",
     "output_type": "stream",
     "text": [
      "C:\\Users\\singha\\AppData\\Local\\Continuum\\anaconda3\\lib\\site-packages\\ipykernel_launcher.py:1: DeprecationWarning: time.clock has been deprecated in Python 3.3 and will be removed from Python 3.8: use time.perf_counter or time.process_time instead\n",
      "  \"\"\"Entry point for launching an IPython kernel.\n",
      "C:\\Users\\singha\\AppData\\Local\\Continuum\\anaconda3\\lib\\site-packages\\ipykernel_launcher.py:7: DeprecationWarning: time.clock has been deprecated in Python 3.3 and will be removed from Python 3.8: use time.perf_counter or time.process_time instead\n",
      "  import sys\n"
     ]
    },
    {
     "name": "stdout",
     "output_type": "stream",
     "text": [
      "\n",
      "            ---- Iteration 0 ----\n",
      "            Error rate : 0.36436436436436437\n",
      "            Loss: 815.3601004579307\n",
      "            \n",
      "\n",
      "            ---- Iteration 25 ----\n",
      "            Error rate : 0.17017017017017017\n",
      "            Loss: 564.24839046222\n",
      "            \n",
      "\n",
      "            ---- Iteration 50 ----\n",
      "            Error rate : 0.02902902902902903\n",
      "            Loss: 471.05302961731525\n",
      "            \n",
      "\n",
      "            ---- Iteration 75 ----\n",
      "            Error rate : 0.009009009009009009\n",
      "            Loss: 394.6392869884486\n",
      "            \n",
      "[<matplotlib.lines.Line2D object at 0x00000187D66A1630>]\n",
      "0.07817786700070428 seconds\n"
     ]
    },
    {
     "data": {
      "image/png": "[encoded data removed]",
      "text/plain": [
       "<Figure size 432x288 with 1 Axes>"
      ]
     },
     "metadata": {
      "needs_background": "light"
     },
     "output_type": "display_data"
    }
   ],
   "source": [
    "start_time = time.clock()\n",
    "vanilla_sgd = run_model(X,Y,cl, iterations = 100,\n",
    "              nodes_in_hidden_layer = 3,\n",
    "              regularization_include = False,\n",
    "              momentum_include = False,\n",
    "              drop_out_include = False)\n",
    "print(time.clock() - start_time, \"seconds\")"
   ]
  },
  {
   "cell_type": "code",
   "execution_count": 39,
   "metadata": {},
   "outputs": [
    {
     "name": "stderr",
     "output_type": "stream",
     "text": [
      "C:\\Users\\singha\\AppData\\Local\\Continuum\\anaconda3\\lib\\site-packages\\ipykernel_launcher.py:1: DeprecationWarning: time.clock has been deprecated in Python 3.3 and will be removed from Python 3.8: use time.perf_counter or time.process_time instead\n",
      "  \"\"\"Entry point for launching an IPython kernel.\n",
      "C:\\Users\\singha\\AppData\\Local\\Continuum\\anaconda3\\lib\\site-packages\\ipykernel_launcher.py:7: DeprecationWarning: time.clock has been deprecated in Python 3.3 and will be removed from Python 3.8: use time.perf_counter or time.process_time instead\n",
      "  import sys\n"
     ]
    },
    {
     "name": "stdout",
     "output_type": "stream",
     "text": [
      "\n",
      "            ---- Iteration 0 ----\n",
      "            Error rate : 0.36436436436436437\n",
      "            Loss: 815.3601696175726\n",
      "            \n",
      "\n",
      "            ---- Iteration 25 ----\n",
      "            Error rate : 0.17017017017017017\n",
      "            Loss: 564.2584226286873\n",
      "            \n",
      "\n",
      "            ---- Iteration 50 ----\n",
      "            Error rate : 0.02902902902902903\n",
      "            Loss: 471.07374131205034\n",
      "            \n",
      "\n",
      "            ---- Iteration 75 ----\n",
      "            Error rate : 0.009009009009009009\n",
      "            Loss: 394.66892379160777\n",
      "            \n",
      "[<matplotlib.lines.Line2D object at 0x00000187D627F048>]\n",
      "0.09821875899979204 seconds\n"
     ]
    },
    {
     "data": {
      "image/png": "[encoded data removed]",
      "text/plain": [
       "<Figure size 432x288 with 1 Axes>"
      ]
     },
     "metadata": {
      "needs_background": "light"
     },
     "output_type": "display_data"
    }
   ],
   "source": [
    "start_time = time.clock()\n",
    "sgd_w_reg = run_model(X,Y,cl, iterations = 100,\n",
    "              nodes_in_hidden_layer = 3,\n",
    "              regularization_include = True,\n",
    "              momentum_include = False,\n",
    "              drop_out_include = False)\n",
    "print(time.clock() - start_time, \"seconds\")"
   ]
  },
  {
   "cell_type": "code",
   "execution_count": 40,
   "metadata": {},
   "outputs": [
    {
     "name": "stderr",
     "output_type": "stream",
     "text": [
      "C:\\Users\\singha\\AppData\\Local\\Continuum\\anaconda3\\lib\\site-packages\\ipykernel_launcher.py:1: DeprecationWarning: time.clock has been deprecated in Python 3.3 and will be removed from Python 3.8: use time.perf_counter or time.process_time instead\n",
      "  \"\"\"Entry point for launching an IPython kernel.\n",
      "C:\\Users\\singha\\AppData\\Local\\Continuum\\anaconda3\\lib\\site-packages\\ipykernel_launcher.py:7: DeprecationWarning: time.clock has been deprecated in Python 3.3 and will be removed from Python 3.8: use time.perf_counter or time.process_time instead\n",
      "  import sys\n"
     ]
    },
    {
     "name": "stdout",
     "output_type": "stream",
     "text": [
      "\n",
      "            ---- Iteration 0 ----\n",
      "            Error rate : 0.36436436436436437\n",
      "            Loss: 815.3601696175726\n",
      "            \n",
      "\n",
      "            ---- Iteration 25 ----\n",
      "            Error rate : 0.002002002002002002\n",
      "            Loss: 182.98683345381278\n",
      "            \n",
      "\n",
      "            ---- Iteration 50 ----\n",
      "            Error rate : 0.0\n",
      "            Loss: 43.899542875758385\n",
      "            \n",
      "\n",
      "            ---- Iteration 75 ----\n",
      "            Error rate : 0.0\n",
      "            Loss: 25.146346730882783\n",
      "            \n",
      "[<matplotlib.lines.Line2D object at 0x00000187D6416C88>]\n",
      "0.08508307700139994 seconds\n"
     ]
    },
    {
     "data": {
      "image/png": "[encoded data removed]",
      "text/plain": [
       "<Figure size 432x288 with 1 Axes>"
      ]
     },
     "metadata": {
      "needs_background": "light"
     },
     "output_type": "display_data"
    }
   ],
   "source": [
    "start_time = time.clock()\n",
    "sgd_w_reg_momentum = run_model(X,Y,cl, iterations = 100,\n",
    "                              nodes_in_hidden_layer = 3,\n",
    "                              regularization_include = True,\n",
    "                              momentum_include = True,\n",
    "                              drop_out_include = False)\n",
    "print(time.clock() - start_time, \"seconds\")"
   ]
  },
  {
   "cell_type": "code",
   "execution_count": 41,
   "metadata": {},
   "outputs": [
    {
     "name": "stderr",
     "output_type": "stream",
     "text": [
      "C:\\Users\\singha\\AppData\\Local\\Continuum\\anaconda3\\lib\\site-packages\\ipykernel_launcher.py:1: DeprecationWarning: time.clock has been deprecated in Python 3.3 and will be removed from Python 3.8: use time.perf_counter or time.process_time instead\n",
      "  \"\"\"Entry point for launching an IPython kernel.\n",
      "C:\\Users\\singha\\AppData\\Local\\Continuum\\anaconda3\\lib\\site-packages\\ipykernel_launcher.py:7: DeprecationWarning: time.clock has been deprecated in Python 3.3 and will be removed from Python 3.8: use time.perf_counter or time.process_time instead\n",
      "  import sys\n"
     ]
    },
    {
     "name": "stdout",
     "output_type": "stream",
     "text": [
      "\n",
      "            ---- Iteration 0 ----\n",
      "            Error rate : 0.36436436436436437\n",
      "            Loss: 815.3601696175726\n",
      "            \n",
      "\n",
      "            ---- Iteration 25 ----\n",
      "            Error rate : 0.002002002002002002\n",
      "            Loss: 182.98683345381278\n",
      "            \n",
      "\n",
      "            ---- Iteration 50 ----\n",
      "            Error rate : 0.0\n",
      "            Loss: 43.899542875758385\n",
      "            \n",
      "\n",
      "            ---- Iteration 75 ----\n",
      "            Error rate : 0.0\n",
      "            Loss: 25.146346730882783\n",
      "            \n",
      "[<matplotlib.lines.Line2D object at 0x00000187D630A0F0>]\n",
      "0.08043807000103698 seconds\n"
     ]
    },
    {
     "data": {
      "image/png": "[encoded data removed]",
      "text/plain": [
       "<Figure size 432x288 with 1 Axes>"
      ]
     },
     "metadata": {
      "needs_background": "light"
     },
     "output_type": "display_data"
    }
   ],
   "source": [
    "start_time = time.clock()\n",
    "sgd_w_reg_momentum_drop_out = run_model(X,Y,cl, iterations = 100,\n",
    "                                      nodes_in_hidden_layer = 3,\n",
    "                                      regularization_include = True,\n",
    "                                      momentum_include = True,\n",
    "                                      drop_out_include = True) \n",
    "print(time.clock() - start_time, \"seconds\")"
   ]
  },
  {
   "cell_type": "markdown",
   "metadata": {},
   "source": [
    "| Regularization Scheme       | ReLu Time      | Sigmoid Time   |\n",
    "|-----------------------------|----------------|----------------|\n",
    "| vanilla_sgd                 | 1.2350 seconds | 0.0782 seconds |\n",
    "| sgd_w_reg                   | 1.2468 seconds | 0.0982 seconds |\n",
    "| sgd_w_momentum              | 1.3106 seconds | 0.0851 seconds |\n",
    "| sgd_w_reg_momentum_drop_out | 1.2910 seconds | 0.0804 seconds |"
   ]
  },
  {
   "cell_type": "code",
   "execution_count": null,
   "metadata": {},
   "outputs": [],
   "source": []
  },
  {
   "cell_type": "code",
   "execution_count": null,
   "metadata": {},
   "outputs": [],
   "source": []
  },
  {
   "cell_type": "code",
   "execution_count": null,
   "metadata": {},
   "outputs": [],
   "source": []
  },
  {
   "cell_type": "code",
   "execution_count": null,
   "metadata": {},
   "outputs": [],
   "source": []
  }
 ],
 "metadata": {
  "kernelspec": {
   "display_name": "Python 3",
   "language": "python",
   "name": "python3"
  },
  "language_info": {
   "codemirror_mode": {
    "name": "ipython",
    "version": 3
   },
   "file_extension": ".py",
   "mimetype": "text/x-python",
   "name": "python",
   "nbconvert_exporter": "python",
   "pygments_lexer": "ipython3",
   "version": "3.6.5"
  }
 },
 "nbformat": 4,
 "nbformat_minor": 4
}
